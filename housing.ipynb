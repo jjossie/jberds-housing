{
 "cells": [
  {
   "cell_type": "code",
   "execution_count": 1,
   "metadata": {
    "collapsed": true,
    "ExecuteTime": {
     "end_time": "2023-05-23T23:30:31.920735Z",
     "start_time": "2023-05-23T23:30:30.962554Z"
    }
   },
   "outputs": [],
   "source": [
    "import pandas as pd\n",
    "from sklearn.preprocessing import MinMaxScaler\n",
    "import math\n",
    "# import requests\n",
    "# from io import StringIO\n",
    "import numpy as np\n",
    "from datetime import datetime"
   ]
  },
  {
   "attachments": {},
   "cell_type": "markdown",
   "metadata": {},
   "source": [
    "### load in the data"
   ]
  },
  {
   "cell_type": "code",
   "execution_count": 2,
   "metadata": {
    "ExecuteTime": {
     "end_time": "2023-05-23T23:31:01.792974Z",
     "start_time": "2023-05-23T23:30:38.434869Z"
    }
   },
   "outputs": [],
   "source": [
    "housing = pd.read_csv('https://raw.githubusercontent.com/byui-cse/cse450-course/master/data/housing.csv')\n",
    "holdout = pd.read_csv('https://raw.githubusercontent.com/byui-cse/cse450-course/master/data/housing_holdout_test.csv')\n",
    "holdout_mini = pd.read_csv(\n",
    "    'https://raw.githubusercontent.com/byui-cse/cse450-course/master/data/housing_holdout_test_mini.csv')\n",
    "\n",
    "\n",
    "def get_data_from_url(url):\n",
    "    # response = requests.get(url)\n",
    "    #\n",
    "    # # Check if the request was successful\n",
    "    # if response.status_code == 200:\n",
    "    #     data = StringIO(response.text)\n",
    "    #     df = pd.read_csv(data)\n",
    "    #     # Now you can work with the dataframe\n",
    "    #     return df\n",
    "    # else:\n",
    "    #     print(\"Error: Unable to retrieve data from the URL.\")\n",
    "    #     return None\n",
    "    return pd.read_csv(url)\n",
    "\n",
    "\n",
    "global irs_2014\n",
    "global irs_2015\n",
    "\n",
    "irs_2014 = get_data_from_url('https://www.irs.gov/pub/irs-soi/14zpallnoagi.csv')\n",
    "irs_2015 = get_data_from_url('https://www.irs.gov/pub/irs-soi/15zpallnoagi.csv')\n",
    "\n",
    "irs_2014['zipcode'] = irs_2014['ZIPCODE']\n",
    "irs_2015['zipcode'] = irs_2015['ZIPCODE']"
   ]
  },
  {
   "attachments": {},
   "cell_type": "markdown",
   "metadata": {},
   "source": [
    "# Preprocessing function"
   ]
  },
  {
   "cell_type": "code",
   "execution_count": 3,
   "metadata": {
    "ExecuteTime": {
     "end_time": "2023-05-23T23:31:04.650933Z",
     "start_time": "2023-05-23T23:31:04.626797Z"
    }
   },
   "outputs": [],
   "source": [
    "def preprocess_and_create_options(df: pd.DataFrame):\n",
    "    \"\"\"\n",
    "    process data and return the following df's \n",
    "    normal_df - just fixed bad columns in original data\n",
    "    added_columns_df - added features based on original columns \n",
    "    normalized_df - normalized added_columns_df\n",
    "    irs_df - augment features based off of IRS data also includes added_columns_df\n",
    "    normalized_irs_df - normalized irs_df\n",
    "    \"\"\"\n",
    "    # fix bad columns\n",
    "    df['date'] = [x.split('T')[0] for x in df['date']]\n",
    "\n",
    "    normal_df = df.copy(deep=True)\n",
    "\n",
    "    # add new columns\n",
    "    df['opinion_score'] = df['view'] + df['condition'] + df['grade']\n",
    "    df['year_of_data'] = [int(x[0:4]) for x in df['date']]\n",
    "    df['month_of_data'] = [int(x[4:6]) for x in df['date']]\n",
    "    df['years_since_renovation'] = df['year_of_data'] - (\n",
    "        df['yr_renovated'].where(df['yr_renovated'] != 0, df['yr_built']))\n",
    "\n",
    "    def calculate_distance(lat2, lon2):\n",
    "        \"\"\"\n",
    "        returns the distance of a latitude longitude pair to seattle, washington in kilometers\n",
    "        \"\"\"\n",
    "        # Coordinates of Seattle\n",
    "        lat1 = 47.6062  # Latitude of Seattle\n",
    "        lon1 = -122.3321  # Longitude of Seattle\n",
    "\n",
    "        # Convert latitude and longitude from degrees to radians\n",
    "        lat1 = math.radians(lat1)\n",
    "        lon1 = math.radians(lon1)\n",
    "        lat2 = math.radians(lat2)\n",
    "        lon2 = math.radians(lon2)\n",
    "\n",
    "        # Haversine formula\n",
    "        dlon = lon2 - lon1\n",
    "        dlat = lat2 - lat1\n",
    "        a = math.sin(dlat / 2) ** 2 + math.cos(lat1) * math.cos(lat2) * math.sin(dlon / 2) ** 2\n",
    "        c = 2 * math.atan2(math.sqrt(a), math.sqrt(1 - a))\n",
    "        radius_of_earth = 6371  # Radius of the Earth in kilometers\n",
    "        distance = radius_of_earth * c\n",
    "\n",
    "        return distance\n",
    "\n",
    "    def convert_to_unix_time(date_string):\n",
    "        date_object = datetime.strptime(date_string, date_format)\n",
    "        unix_time = int(date_object.timestamp())\n",
    "        return unix_time\n",
    "\n",
    "    date_format = \"%Y%m%d\"\n",
    "    df['unix_time'] = df['date'].apply(convert_to_unix_time)\n",
    "\n",
    "    df['kms_to_seattle'] = df.apply(lambda row: calculate_distance(row['lat'], row['long']), axis=1)\n",
    "\n",
    "    added_columns_df = df.copy(deep=True)\n",
    "\n",
    "    normalized_df = pd.DataFrame()\n",
    "    to_normalize = ['bedrooms', 'bathrooms', 'sqft_living', 'sqft_lot',\n",
    "                    'floors', 'waterfront', 'view', 'condition', 'grade', 'sqft_above',\n",
    "                    'sqft_basement',\n",
    "                    'sqft_living15', 'sqft_lot15', 'opinion_score', 'year_of_data',\n",
    "                    'month_of_data', 'years_since_renovation',\n",
    "                    'kms_to_seattle']\n",
    "\n",
    "    scaler = MinMaxScaler()\n",
    "\n",
    "    for x in df.columns:\n",
    "        if x in to_normalize:\n",
    "            normalized_df[x] = scaler.fit_transform(df[[x]])\n",
    "        else:\n",
    "            normalized_df[x] = df[x]\n",
    "\n",
    "    # List of attributes to merge \n",
    "    # All of these are averages for a zipcode at the year of the sale\n",
    "    # num in the name refers to number of returns with the given quality\n",
    "    # other columns are average for that zipcode of the certain thing\n",
    "    attributes = {\n",
    "        'A00100': 'gross_income',\n",
    "        'N00700': 'num_state_refunds',\n",
    "        'N00900': 'num_business_income',\n",
    "        'SCHF': 'num_farm_returns',\n",
    "        'N03300': 'num_slf_emply_rtire_pln',\n",
    "        'A18425': 'state_local_income_tax',\n",
    "        'A18450': 'state_local_gen_sales_tax',\n",
    "        'N18500': 'num_real_estate_taxes',\n",
    "        'A18500': 'real_estate_tax_amt',\n",
    "        'A19300': 'mortgage_interest_paid_amt',\n",
    "        'N07260': 'num_res_energy_tax_cred',\n",
    "        'TCE': 'num_tax_counsel_for_elderly'\n",
    "    }\n",
    "\n",
    "    # Merge the attributes from irs_2014 and irs_2015 into the df dataframe\n",
    "    for attr, name in attributes.items():\n",
    "        merged_attr = df.merge(irs_2014[['zipcode', attr]], on='zipcode', how='left')\n",
    "        merged_attr = merged_attr.merge(irs_2015[['zipcode', attr]], on='zipcode', how='left')\n",
    "        df[name] = np.where(df['year_of_data'] == 2014, merged_attr[attr + '_x'], merged_attr[attr + '_y'])\n",
    "\n",
    "    irs_df = df.copy(deep=True)\n",
    "\n",
    "    normalized_irs_df = pd.DataFrame()\n",
    "    to_normalize = ['bedrooms', 'bathrooms', 'sqft_living', 'sqft_lot',\n",
    "                    'floors', 'waterfront', 'view', 'condition', 'grade', 'sqft_above',\n",
    "                    'sqft_basement',\n",
    "                    'sqft_living15', 'sqft_lot15', 'opinion_score', 'year_of_data',\n",
    "                    'month_of_data', 'years_since_renovation',\n",
    "                    'kms_to_seattle', 'gross_income',\n",
    "                    'num_state_refunds', 'num_business_income', 'num_farm_returns',\n",
    "                    'num_slf_emply_rtire_pln', 'state_local_income_tax',\n",
    "                    'state_local_gen_sales_tax', 'num_real_estate_taxes',\n",
    "                    'real_estate_tax_amt', 'mortgage_interest_paid_amt',\n",
    "                    'num_res_energy_tax_cred', 'num_tax_counsel_for_elderly']\n",
    "\n",
    "    scaler = MinMaxScaler()\n",
    "\n",
    "    for x in df.columns:\n",
    "        if x in to_normalize:\n",
    "            normalized_irs_df[x] = scaler.fit_transform(df[[x]])\n",
    "        else:\n",
    "            normalized_irs_df[x] = df[x]\n",
    "\n",
    "    return normal_df, added_columns_df, normalized_df, irs_df, normalized_irs_df"
   ]
  },
  {
   "attachments": {},
   "cell_type": "markdown",
   "metadata": {},
   "source": [
    "### Load all possible DF's "
   ]
  },
  {
   "cell_type": "code",
   "execution_count": 4,
   "metadata": {
    "ExecuteTime": {
     "end_time": "2023-05-23T23:31:08.578083Z",
     "start_time": "2023-05-23T23:31:08.063712Z"
    }
   },
   "outputs": [],
   "source": [
    "normal_housing, added_columns_housing, normalized_housing, irs_housing, normalized_irs_housing = preprocess_and_create_options(\n",
    "    housing)\n",
    "normal_holdout, added_columns_holdout, normalized_holdout, irs_holdout, normalized_irs_holdout = preprocess_and_create_options(\n",
    "    holdout)\n",
    "normal_holdout_mini, added_columns_holdout_mini, normalized_holdout_mini, irs_holdout_mini, normalized_irs_holdout_mini = preprocess_and_create_options(\n",
    "    holdout_mini)"
   ]
  },
  {
   "cell_type": "markdown",
   "source": [
    "# Brian's Stuff"
   ],
   "metadata": {
    "collapsed": false
   }
  },
  {
   "cell_type": "markdown",
   "source": [
    "# Use Grid/Random Search to Train and Select Best Models\n",
    "\n",
    "This will be performed for each of the possible dataframes to determine which sets of augmented features are most helpful."
   ],
   "metadata": {
    "collapsed": false
   }
  },
  {
   "cell_type": "code",
   "execution_count": 5,
   "outputs": [],
   "source": [
    "dataframes = {\n",
    "    \"normal housing\": normal_housing,\n",
    "    \"added columns housing\": added_columns_housing,\n",
    "    \"normalized housing\": normalized_housing,\n",
    "    \"irs housing\": irs_housing,\n",
    "    \"normalized irs housing\": normalized_irs_housing\n",
    "}\n"
   ],
   "metadata": {
    "collapsed": false,
    "ExecuteTime": {
     "end_time": "2023-05-23T23:31:12.455410Z",
     "start_time": "2023-05-23T23:31:12.444414Z"
    }
   }
  },
  {
   "cell_type": "code",
   "execution_count": 6,
   "outputs": [
    {
     "name": "stdout",
     "output_type": "stream",
     "text": [
      "Training based on the 'added columns housing' dataset\n",
      "0.8157348944301145\n",
      "evaluating added columns housing: \n",
      "\tR2: 0.8137440578254069\n",
      "\tRMSE: 159674.4512490819\n"
     ]
    },
    {
     "data": {
      "text/plain": "<Figure size 640x480 with 1 Axes>",
      "image/png": "[encoded data removed]"
     },
     "metadata": {},
     "output_type": "display_data"
    }
   ],
   "source": [
    "from evaluation import EvaluationSet, SplitType\n",
    "from sklearn.model_selection import RandomizedSearchCV, train_test_split\n",
    "from xgboost import XGBRegressor\n",
    "\n",
    "param_grid = {\n",
    "    'learning_rate': [0.01, 0.05, 0.1],\n",
    "    'n_estimators': [100, 200, 300],\n",
    "    'max_depth': [5, 10, 15]\n",
    "}\n",
    "\n",
    "columns_to_drop = ['price', 'date', 'id']\n",
    "\n",
    "# Custom object Joel created for accumulating different results\n",
    "evaluation_set = EvaluationSet()\n",
    "\n",
    "for name, dataframe in dataframes.items():\n",
    "    print(f\"Training based on the '{name}' dataset\")\n",
    "\n",
    "    # Define X/y\n",
    "    y = dataframe.price\n",
    "    X = dataframe.drop(columns_to_drop, axis=1)\n",
    "\n",
    "    # Split into Train/Eval/Test datasets\n",
    "    X_train, X_test, y_train, y_test = train_test_split(X, y, test_size=0.8) # Only for quicker training\n",
    "    # X_train, y_train, X_validate, y_validate = train_test_split(X_train, y_train, test_size=0.2)\n",
    "    # X_train, y_train, X_test, y_test = train_test_split(X, y, test_size=0.2)\n",
    "\n",
    "\n",
    "    # Perform the Grid/Random Search\n",
    "    random_search = RandomizedSearchCV(XGBRegressor(), param_grid, cv=5)\n",
    "    random_search.fit(X_train, y_train)\n",
    "\n",
    "    # Get the best model & its metrics\n",
    "    best_model: XGBRegressor = random_search.best_estimator_\n",
    "    print(random_search.best_score_)\n",
    "\n",
    "    # Generate predictions for the test (or evaluate?) dataset\n",
    "    y_pred = best_model.predict(X_test)\n",
    "\n",
    "    evaluation_set.evaluate(name, SplitType.TEST, y_test, y_pred)\n",
    "\n",
    "evaluation_set.report()\n",
    "\n"
   ],
   "metadata": {
    "collapsed": false,
    "ExecuteTime": {
     "end_time": "2023-05-23T23:31:44.275643Z",
     "start_time": "2023-05-23T23:31:14.218642Z"
    }
   }
  },
  {
   "cell_type": "code",
   "execution_count": null,
   "outputs": [],
   "source": [],
   "metadata": {
    "collapsed": false
   }
  }
 ],
 "metadata": {
  "kernelspec": {
   "display_name": "Python 3",
   "language": "python",
   "name": "python3"
  },
  "language_info": {
   "codemirror_mode": {
    "name": "ipython",
    "version": 3
   },
   "file_extension": ".py",
   "mimetype": "text/x-python",
   "name": "python",
   "nbconvert_exporter": "python",
   "pygments_lexer": "ipython3",
   "version": "3.8.10"
  }
 },
 "nbformat": 4,
 "nbformat_minor": 0
}
