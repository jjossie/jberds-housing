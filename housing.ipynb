{
 "cells": [
  {
   "cell_type": "code",
   "execution_count": 1,
   "metadata": {
    "collapsed": true,
    "ExecuteTime": {
     "end_time": "2023-05-23T23:30:31.920735Z",
     "start_time": "2023-05-23T23:30:30.962554Z"
    }
   },
   "outputs": [],
   "source": [
    "import pandas as pd\n",
    "from sklearn.preprocessing import MinMaxScaler\n",
    "import math\n",
    "# import requests\n",
    "# from io import StringIO\n",
    "import numpy as np\n",
    "from datetime import datetime"
   ]
  },
  {
   "attachments": {},
   "cell_type": "markdown",
   "metadata": {},
   "source": [
    "### load in the data"
   ]
  },
  {
   "cell_type": "code",
   "execution_count": 2,
   "metadata": {
    "ExecuteTime": {
     "end_time": "2023-05-23T23:31:01.792974Z",
     "start_time": "2023-05-23T23:30:38.434869Z"
    }
   },
   "outputs": [],
   "source": [
    "housing = pd.read_csv('https://raw.githubusercontent.com/byui-cse/cse450-course/master/data/housing.csv')\n",
    "holdout = pd.read_csv('https://raw.githubusercontent.com/byui-cse/cse450-course/master/data/housing_holdout_test.csv')\n",
    "holdout_mini = pd.read_csv(\n",
    "    'https://raw.githubusercontent.com/byui-cse/cse450-course/master/data/housing_holdout_test_mini.csv')\n",
    "\n",
    "\n",
    "def get_data_from_url(url):\n",
    "    # response = requests.get(url)\n",
    "    #\n",
    "    # # Check if the request was successful\n",
    "    # if response.status_code == 200:\n",
    "    #     data = StringIO(response.text)\n",
    "    #     df = pd.read_csv(data)\n",
    "    #     # Now you can work with the dataframe\n",
    "    #     return df\n",
    "    # else:\n",
    "    #     print(\"Error: Unable to retrieve data from the URL.\")\n",
    "    #     return None\n",
    "    return pd.read_csv(url)\n",
    "\n",
    "\n",
    "global irs_2014\n",
    "global irs_2015\n",
    "\n",
    "irs_2014 = get_data_from_url('https://www.irs.gov/pub/irs-soi/14zpallnoagi.csv')\n",
    "irs_2015 = get_data_from_url('https://www.irs.gov/pub/irs-soi/15zpallnoagi.csv')\n",
    "\n",
    "irs_2014['zipcode'] = irs_2014['ZIPCODE']\n",
    "irs_2015['zipcode'] = irs_2015['ZIPCODE']"
   ]
  },
  {
   "attachments": {},
   "cell_type": "markdown",
   "metadata": {},
   "source": [
    "# Preprocessing function"
   ]
  },
  {
   "cell_type": "code",
   "execution_count": 3,
   "metadata": {
    "ExecuteTime": {
     "end_time": "2023-05-23T23:31:04.650933Z",
     "start_time": "2023-05-23T23:31:04.626797Z"
    }
   },
   "outputs": [],
   "source": [
    "def preprocess_and_create_options(df: pd.DataFrame):\n",
    "    \"\"\"\n",
    "    process data and return the following df's \n",
    "    normal_df - just fixed bad columns in original data\n",
    "    added_columns_df - added features based on original columns \n",
    "    normalized_df - normalized added_columns_df\n",
    "    irs_df - augment features based off of IRS data also includes added_columns_df\n",
    "    normalized_irs_df - normalized irs_df\n",
    "    \"\"\"\n",
    "    # fix bad columns\n",
    "    df['date'] = [x.split('T')[0] for x in df['date']]\n",
    "\n",
    "    normal_df = df.copy(deep=True)\n",
    "\n",
    "    # add new columns\n",
    "    df['opinion_score'] = df['view'] + df['condition'] + df['grade']\n",
    "    df['year_of_data'] = [int(x[0:4]) for x in df['date']]\n",
    "    df['month_of_data'] = [int(x[4:6]) for x in df['date']]\n",
    "    df['years_since_renovation'] = df['year_of_data'] - (\n",
    "        df['yr_renovated'].where(df['yr_renovated'] != 0, df['yr_built']))\n",
    "\n",
    "    def calculate_distance(lat2, lon2):\n",
    "        \"\"\"\n",
    "        returns the distance of a latitude longitude pair to seattle, washington in kilometers\n",
    "        \"\"\"\n",
    "        # Coordinates of Seattle\n",
    "        lat1 = 47.6062  # Latitude of Seattle\n",
    "        lon1 = -122.3321  # Longitude of Seattle\n",
    "\n",
    "        # Convert latitude and longitude from degrees to radians\n",
    "        lat1 = math.radians(lat1)\n",
    "        lon1 = math.radians(lon1)\n",
    "        lat2 = math.radians(lat2)\n",
    "        lon2 = math.radians(lon2)\n",
    "\n",
    "        # Haversine formula\n",
    "        dlon = lon2 - lon1\n",
    "        dlat = lat2 - lat1\n",
    "        a = math.sin(dlat / 2) ** 2 + math.cos(lat1) * math.cos(lat2) * math.sin(dlon / 2) ** 2\n",
    "        c = 2 * math.atan2(math.sqrt(a), math.sqrt(1 - a))\n",
    "        radius_of_earth = 6371  # Radius of the Earth in kilometers\n",
    "        distance = radius_of_earth * c\n",
    "\n",
    "        return distance\n",
    "\n",
    "    def convert_to_unix_time(date_string):\n",
    "        date_object = datetime.strptime(date_string, date_format)\n",
    "        unix_time = int(date_object.timestamp())\n",
    "        return unix_time\n",
    "\n",
    "    date_format = \"%Y%m%d\"\n",
    "    df['unix_time'] = df['date'].apply(convert_to_unix_time)\n",
    "\n",
    "    df['kms_to_seattle'] = df.apply(lambda row: calculate_distance(row['lat'], row['long']), axis=1)\n",
    "\n",
    "    added_columns_df = df.copy(deep=True)\n",
    "\n",
    "    normalized_df = pd.DataFrame()\n",
    "    to_normalize = ['bedrooms', 'bathrooms', 'sqft_living', 'sqft_lot',\n",
    "                    'floors', 'waterfront', 'view', 'condition', 'grade', 'sqft_above',\n",
    "                    'sqft_basement',\n",
    "                    'sqft_living15', 'sqft_lot15', 'opinion_score', 'year_of_data',\n",
    "                    'month_of_data', 'years_since_renovation',\n",
    "                    'kms_to_seattle']\n",
    "\n",
    "    scaler = MinMaxScaler()\n",
    "\n",
    "    for x in df.columns:\n",
    "        if x in to_normalize:\n",
    "            normalized_df[x] = scaler.fit_transform(df[[x]])\n",
    "        else:\n",
    "            normalized_df[x] = df[x]\n",
    "\n",
    "    # List of attributes to merge \n",
    "    # All of these are averages for a zipcode at the year of the sale\n",
    "    # num in the name refers to number of returns with the given quality\n",
    "    # other columns are average for that zipcode of the certain thing\n",
    "    attributes = {\n",
    "        'A00100': 'gross_income',\n",
    "        'N00700': 'num_state_refunds',\n",
    "        'N00900': 'num_business_income',\n",
    "        'SCHF': 'num_farm_returns',\n",
    "        'N03300': 'num_slf_emply_rtire_pln',\n",
    "        'A18425': 'state_local_income_tax',\n",
    "        'A18450': 'state_local_gen_sales_tax',\n",
    "        'N18500': 'num_real_estate_taxes',\n",
    "        'A18500': 'real_estate_tax_amt',\n",
    "        'A19300': 'mortgage_interest_paid_amt',\n",
    "        'N07260': 'num_res_energy_tax_cred',\n",
    "        'TCE': 'num_tax_counsel_for_elderly'\n",
    "    }\n",
    "\n",
    "    # Merge the attributes from irs_2014 and irs_2015 into the df dataframe\n",
    "    for attr, name in attributes.items():\n",
    "        merged_attr = df.merge(irs_2014[['zipcode', attr]], on='zipcode', how='left')\n",
    "        merged_attr = merged_attr.merge(irs_2015[['zipcode', attr]], on='zipcode', how='left')\n",
    "        df[name] = np.where(df['year_of_data'] == 2014, merged_attr[attr + '_x'], merged_attr[attr + '_y'])\n",
    "\n",
    "    irs_df = df.copy(deep=True)\n",
    "\n",
    "    normalized_irs_df = pd.DataFrame()\n",
    "    to_normalize = ['bedrooms', 'bathrooms', 'sqft_living', 'sqft_lot',\n",
    "                    'floors', 'waterfront', 'view', 'condition', 'grade', 'sqft_above',\n",
    "                    'sqft_basement',\n",
    "                    'sqft_living15', 'sqft_lot15', 'opinion_score', 'year_of_data',\n",
    "                    'month_of_data', 'years_since_renovation',\n",
    "                    'kms_to_seattle', 'gross_income',\n",
    "                    'num_state_refunds', 'num_business_income', 'num_farm_returns',\n",
    "                    'num_slf_emply_rtire_pln', 'state_local_income_tax',\n",
    "                    'state_local_gen_sales_tax', 'num_real_estate_taxes',\n",
    "                    'real_estate_tax_amt', 'mortgage_interest_paid_amt',\n",
    "                    'num_res_energy_tax_cred', 'num_tax_counsel_for_elderly']\n",
    "\n",
    "    scaler = MinMaxScaler()\n",
    "\n",
    "    for x in df.columns:\n",
    "        if x in to_normalize:\n",
    "            normalized_irs_df[x] = scaler.fit_transform(df[[x]])\n",
    "        else:\n",
    "            normalized_irs_df[x] = df[x]\n",
    "\n",
    "    return normal_df, added_columns_df, normalized_df, irs_df, normalized_irs_df"
   ]
  },
  {
   "attachments": {},
   "cell_type": "markdown",
   "metadata": {},
   "source": [
    "### Load all possible DF's "
   ]
  },
  {
   "cell_type": "code",
   "execution_count": 4,
   "metadata": {
    "ExecuteTime": {
     "end_time": "2023-05-23T23:31:08.578083Z",
     "start_time": "2023-05-23T23:31:08.063712Z"
    }
   },
   "outputs": [],
   "source": [
    "normal_housing, added_columns_housing, normalized_housing, irs_housing, normalized_irs_housing = preprocess_and_create_options(\n",
    "    housing)\n",
    "normal_holdout, added_columns_holdout, normalized_holdout, irs_holdout, normalized_irs_holdout = preprocess_and_create_options(\n",
    "    holdout)\n",
    "normal_holdout_mini, added_columns_holdout_mini, normalized_holdout_mini, irs_holdout_mini, normalized_irs_holdout_mini = preprocess_and_create_options(\n",
    "    holdout_mini)"
   ]
  },
  {
   "cell_type": "markdown",
   "source": [
    "# Brian's Stuff"
   ],
   "metadata": {
    "collapsed": false
   }
  },
  {
   "cell_type": "markdown",
   "source": [
    "# Use Grid/Random Search to Train and Select Best Models\n",
    "\n",
    "This will be performed for each of the possible dataframes to determine which sets of augmented features are most helpful."
   ],
   "metadata": {
    "collapsed": false
   }
  },
  {
   "cell_type": "code",
   "execution_count": 8,
   "outputs": [],
   "source": [
    "dataframes = {\n",
    "    \"normal housing\": normal_housing,\n",
    "    \"added columns housing\": added_columns_housing,\n",
    "    \"normalized housing\": normalized_housing,\n",
    "    \"irs housing\": irs_housing,\n",
    "    \"normalized irs housing\": normalized_irs_housing\n",
    "}\n"
   ],
   "metadata": {
    "collapsed": false,
    "ExecuteTime": {
     "end_time": "2023-05-23T23:36:19.386315Z",
     "start_time": "2023-05-23T23:36:19.379484Z"
    }
   }
  },
  {
   "cell_type": "markdown",
   "source": [
    "### Models/Datasets Evaluation"
   ],
   "metadata": {
    "collapsed": false
   }
  },
  {
   "cell_type": "code",
   "execution_count": 26,
   "outputs": [],
   "source": [
    "from sklearn.metrics import r2_score\n",
    "from sklearn.metrics import mean_squared_error\n",
    "import pandas as pd\n",
    "import seaborn as sns\n",
    "from matplotlib import pyplot\n",
    "\n",
    "from enum import Enum\n",
    "\n",
    "\n",
    "class SplitType(Enum):\n",
    "    EVAL = \"Evaluation\"\n",
    "    TEST = \"Test\"\n",
    "\n",
    "\n",
    "results = pd.DataFrame({\n",
    "    \"id\": [],\n",
    "    \"split\": [],\n",
    "    # \"learning_rate\": [],\n",
    "    # \"n_estimators\": [],\n",
    "    # \"max_depth\": [],\n",
    "    \"r2\": [],\n",
    "    \"rmse\": [],\n",
    "})\n",
    "\n",
    "models = {}\n",
    "cross_validators = {}"
   ],
   "metadata": {
    "collapsed": false,
    "ExecuteTime": {
     "end_time": "2023-05-24T00:22:09.594612Z",
     "start_time": "2023-05-24T00:22:09.591115Z"
    }
   }
  },
  {
   "cell_type": "markdown",
   "source": [
    "### Define Evaluation and Reporting functions"
   ],
   "metadata": {
    "collapsed": false
   }
  },
  {
   "cell_type": "code",
   "execution_count": 43,
   "outputs": [],
   "source": [
    "from sklearn.model_selection import RandomizedSearchCV, GridSearchCV\n",
    "\n",
    "\n",
    "def evaluate(model_id, search: RandomizedSearchCV, y_test, y_pred):\n",
    "\n",
    "    cross_validators[model_id] = search\n",
    "    models[model_id] = best_model\n",
    "\n",
    "    test_r2 = r2_score(y_test, y_pred)\n",
    "    test_rmse = mean_squared_error(y_test, y_pred, squared=False)\n",
    "\n",
    "    print(f\"\\nEvaluating '{model_id}': \\n\"\n",
    "          f\"\\n\\tTest R2: {test_r2}\\n\"\n",
    "          f\"\\n\\tTest RMSE: {test_rmse}\\n\"\n",
    "          f\"\\n\\tEval R2: {search.best_score_}\\n\")\n",
    "    print(\"\\t\\tBest Params: \")\n",
    "    print(search.best_params_)\n",
    "\n",
    "    results.loc[len(results)] = [model_id, SplitType.EVAL, search.best_score_, test_rmse]\n",
    "    results.loc[len(results)] = [model_id, SplitType.TEST, test_r2, test_rmse]\n",
    "\n",
    "\n",
    "def report():\n",
    "\n",
    "    plt = sns.barplot(\n",
    "        data=results,\n",
    "        x=\"id\",\n",
    "        y=\"r2\",\n",
    "        hue=\"split\"\n",
    "    )\n",
    "\n",
    "    pyplot.xticks(rotation=45)\n",
    "\n",
    "    # Add values to the top of each bar\n",
    "    for index, row in results.iterrows():\n",
    "        plt.annotate(round(row['r2'], 2),         # Value to display\n",
    "                     xy=(row.name, row['r2']),    # Position of the value\n",
    "                     xytext=(0, 5),               # Offset text position (optional)\n",
    "                     textcoords='offset points',  # Offset type (optional)\n",
    "                     ha='center')                 # Horizontal alignment of the value"
   ],
   "metadata": {
    "collapsed": false,
    "ExecuteTime": {
     "end_time": "2023-05-24T01:01:55.297287Z",
     "start_time": "2023-05-24T01:01:55.294177Z"
    }
   }
  },
  {
   "cell_type": "markdown",
   "source": [
    "## Train all possible Datasets"
   ],
   "metadata": {
    "collapsed": false
   }
  },
  {
   "cell_type": "code",
   "execution_count": 39,
   "outputs": [
    {
     "name": "stdout",
     "output_type": "stream",
     "text": [
      "Training based on the 'normal housing' dataset\n",
      "0.8845666695103118\n",
      "Evaluating normal housing: \n",
      "\tTest R2: 0.8883030147053694\n",
      "\tTest RMSE: 119450.11096018371\tEval R2: 0.8845666695103118\n",
      "\tBest Params: \n",
      "{'n_estimators': 200, 'max_depth': 5, 'learning_rate': 0.1}\n",
      "Training based on the 'added columns housing' dataset\n",
      "0.8932265646954098\n",
      "Evaluating added columns housing: \n",
      "\tTest R2: 0.9044755295421808\n",
      "\tTest RMSE: 113697.46877359567\tEval R2: 0.8932265646954098\n",
      "\tBest Params: \n",
      "{'n_estimators': 300, 'max_depth': 5, 'learning_rate': 0.05}\n",
      "Training based on the 'normalized housing' dataset\n",
      "0.8844021748890782\n",
      "Evaluating normalized housing: \n",
      "\tTest R2: 0.8949092058640044\n",
      "\tTest RMSE: 113098.94502343281\tEval R2: 0.8844021748890782\n",
      "\tBest Params: \n",
      "{'n_estimators': 200, 'max_depth': 10, 'learning_rate': 0.1}\n",
      "Training based on the 'irs housing' dataset\n",
      "0.8988265754843117\n",
      "Evaluating irs housing: \n",
      "\tTest R2: 0.89485098332899\n",
      "\tTest RMSE: 116182.39233932499\tEval R2: 0.8988265754843117\n",
      "\tBest Params: \n",
      "{'n_estimators': 200, 'max_depth': 5, 'learning_rate': 0.05}\n",
      "Training based on the 'normalized irs housing' dataset\n",
      "0.8927432379664845\n",
      "Evaluating normalized irs housing: \n",
      "\tTest R2: 0.8960379260006954\n",
      "\tTest RMSE: 112109.89918755116\tEval R2: 0.8927432379664845\n",
      "\tBest Params: \n",
      "{'n_estimators': 200, 'max_depth': 5, 'learning_rate': 0.05}\n"
     ]
    }
   ],
   "source": [
    "from sklearn.model_selection import RandomizedSearchCV, train_test_split\n",
    "from xgboost import XGBRegressor\n",
    "\n",
    "param_grid = {\n",
    "    'learning_rate': [0.01, 0.05, 0.1],\n",
    "    'n_estimators': [200, 300],\n",
    "    'max_depth': [3, 5, 7]\n",
    "}\n",
    "\n",
    "columns_to_drop = ['price', 'date', 'id']\n",
    "\n",
    "for name, dataframe in dataframes.items():\n",
    "    print(f\"Training based on the '{name}' dataset\")\n",
    "\n",
    "    # Define X/y\n",
    "    y = dataframe.price\n",
    "    X = dataframe.drop(columns_to_drop, axis=1)\n",
    "\n",
    "    # Split into Train/Eval/Test datasets\n",
    "    X_train_validate, X_test, y_train_validate, y_test = train_test_split(X, y, test_size=0.2, random_state=42)\n",
    "    X_train, X_validate, y_train, y_validate = train_test_split(X_train_validate, y_train_validate, test_size=0.2, random_state=42)\n",
    "    # X_train, y_train, X_validate, y_validate = train_test_split(X_train, y_train, test_size=0.2)\n",
    "    # X_train, y_train, X_test, y_test = train_test_split(X, y, test_size=0.2)\n",
    "\n",
    "    # Perform the Grid/Random Search\n",
    "    random_search = GridSearchCV(XGBRegressor(), param_grid, cv=5)\n",
    "    random_search.fit(X_train, y_train)\n",
    "\n",
    "    # Get the best model & its metrics\n",
    "    best_model: XGBRegressor = random_search.best_estimator_\n",
    "    print(random_search.best_score_)\n",
    "\n",
    "    # Generate predictions for the test (or evaluate?) dataset\n",
    "    y_pred = best_model.predict(X_test)\n",
    "\n",
    "    # Record the results\n",
    "    evaluate(name, random_search, y_test, y_pred)\n",
    "\n"
   ],
   "metadata": {
    "collapsed": false,
    "ExecuteTime": {
     "end_time": "2023-05-24T01:00:34.536356Z",
     "start_time": "2023-05-24T00:45:59.348345Z"
    }
   }
  },
  {
   "cell_type": "markdown",
   "source": [
    "### Evaluate Feature Importances"
   ],
   "metadata": {
    "collapsed": false
   }
  },
  {
   "cell_type": "code",
   "execution_count": 77,
   "outputs": [
    {
     "data": {
      "text/plain": "<Figure size 640x480 with 1 Axes>",
      "image/png": "[encoded data removed]"
     },
     "metadata": {},
     "output_type": "display_data"
    }
   ],
   "source": [
    "feature_importances = {}\n",
    "feature_importances_df = pd.DataFrame({\"feature\": [], \"importance\": []})\n",
    "for name, search in cross_validators.items():\n",
    "    s: RandomizedSearchCV = search\n",
    "    # print(f\"{name}: \")\n",
    "    for index, value in enumerate(s.feature_names_in_):\n",
    "        importance = s.best_estimator_.feature_importances_[index]\n",
    "        # print(f\"\\t{index}: {value} - {importance}\")\n",
    "        if feature_importances.get(value) is not None and len(feature_importances[value]) > 0:\n",
    "            feature_importances[value].append(importance)\n",
    "        else:\n",
    "            feature_importances[value] = [importance]\n",
    "\n",
    "for feature, importances in feature_importances.items():\n",
    "    for importance in importances:\n",
    "        feature_importances_df.loc[len(feature_importances_df)] = [feature, importance]\n",
    "\n",
    "# summarized_fi = feature_importances_df.sort_values(\"importance\", ascending=False)\n",
    "summarized_fi = feature_importances_df.groupby([\"feature\"]).mean().sort_values(\"importance\", ascending=False).reset_index().head(8)\n",
    "\n",
    "# summarized_fi[\"feature\"] = summarized_fi[\"feature\"].astype(str)\n",
    "\n",
    "plt = sns.barplot(\n",
    "    data=summarized_fi,\n",
    "    x=\"feature\",\n",
    "    y=\"importance\",\n",
    ")\n",
    "\n",
    "\n",
    "pyplot.xticks(rotation=60)\n",
    "\n",
    "# Add values to the top of each bar\n",
    "for index, row in results.iterrows():\n",
    "    plt.annotate(round(row['r2'], 2),         # Value to display\n",
    "                 xy=(row.name, row['r2']),    # Position of the value\n",
    "                 xytext=(0, 5),               # Offset text position (optional)\n",
    "                 textcoords='offset points',  # Offset type (optional)\n",
    "                 ha='center')                 # Horizontal alignment of the value\n"
   ],
   "metadata": {
    "collapsed": false,
    "ExecuteTime": {
     "end_time": "2023-05-24T02:03:44.987717Z",
     "start_time": "2023-05-24T02:03:44.788449Z"
    }
   }
  },
  {
   "cell_type": "markdown",
   "source": [
    "## Print the Summary"
   ],
   "metadata": {
    "collapsed": false
   }
  },
  {
   "cell_type": "code",
   "execution_count": 44,
   "outputs": [
    {
     "data": {
      "text/plain": "<Figure size 640x480 with 1 Axes>",
      "image/png": "[encoded data removed]"
     },
     "metadata": {},
     "output_type": "display_data"
    }
   ],
   "source": [
    "report()"
   ],
   "metadata": {
    "collapsed": false,
    "ExecuteTime": {
     "end_time": "2023-05-24T01:02:00.680830Z",
     "start_time": "2023-05-24T01:02:00.510724Z"
    }
   }
  },
  {
   "cell_type": "code",
   "execution_count": null,
   "outputs": [],
   "source": [],
   "metadata": {
    "collapsed": false
   }
  }
 ],
 "metadata": {
  "kernelspec": {
   "display_name": "Python 3",
   "language": "python",
   "name": "python3"
  },
  "language_info": {
   "codemirror_mode": {
    "name": "ipython",
    "version": 3
   },
   "file_extension": ".py",
   "mimetype": "text/x-python",
   "name": "python",
   "nbconvert_exporter": "python",
   "pygments_lexer": "ipython3",
   "version": "3.8.10"
  }
 },
 "nbformat": 4,
 "nbformat_minor": 0
}
