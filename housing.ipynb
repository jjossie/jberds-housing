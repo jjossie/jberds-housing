{
 "cells": [
  {
   "cell_type": "code",
   "execution_count": 1,
   "metadata": {
    "collapsed": true,
    "ExecuteTime": {
     "end_time": "2023-05-23T23:30:31.920735Z",
     "start_time": "2023-05-23T23:30:30.962554Z"
    }
   },
   "outputs": [],
   "source": [
    "import pandas as pd\n",
    "from sklearn.preprocessing import MinMaxScaler\n",
    "import math\n",
    "# import requests\n",
    "# from io import StringIO\n",
    "import numpy as np\n",
    "from datetime import datetime"
   ]
  },
  {
   "attachments": {},
   "cell_type": "markdown",
   "metadata": {},
   "source": [
    "### load in the data"
   ]
  },
  {
   "cell_type": "code",
   "execution_count": 2,
   "metadata": {
    "ExecuteTime": {
     "end_time": "2023-05-23T23:31:01.792974Z",
     "start_time": "2023-05-23T23:30:38.434869Z"
    }
   },
   "outputs": [],
   "source": [
    "housing = pd.read_csv('https://raw.githubusercontent.com/byui-cse/cse450-course/master/data/housing.csv')\n",
    "holdout = pd.read_csv('https://raw.githubusercontent.com/byui-cse/cse450-course/master/data/housing_holdout_test.csv')\n",
    "holdout_mini = pd.read_csv(\n",
    "    'https://raw.githubusercontent.com/byui-cse/cse450-course/master/data/housing_holdout_test_mini.csv')\n",
    "\n",
    "\n",
    "def get_data_from_url(url):\n",
    "    # response = requests.get(url)\n",
    "    #\n",
    "    # # Check if the request was successful\n",
    "    # if response.status_code == 200:\n",
    "    #     data = StringIO(response.text)\n",
    "    #     df = pd.read_csv(data)\n",
    "    #     # Now you can work with the dataframe\n",
    "    #     return df\n",
    "    # else:\n",
    "    #     print(\"Error: Unable to retrieve data from the URL.\")\n",
    "    #     return None\n",
    "    return pd.read_csv(url)\n",
    "\n",
    "\n",
    "global irs_2014\n",
    "global irs_2015\n",
    "\n",
    "irs_2014 = get_data_from_url('https://www.irs.gov/pub/irs-soi/14zpallnoagi.csv')\n",
    "irs_2015 = get_data_from_url('https://www.irs.gov/pub/irs-soi/15zpallnoagi.csv')\n",
    "\n",
    "irs_2014['zipcode'] = irs_2014['ZIPCODE']\n",
    "irs_2015['zipcode'] = irs_2015['ZIPCODE']"
   ]
  },
  {
   "attachments": {},
   "cell_type": "markdown",
   "metadata": {},
   "source": [
    "# Preprocessing function"
   ]
  },
  {
   "cell_type": "code",
   "execution_count": 3,
   "metadata": {
    "ExecuteTime": {
     "end_time": "2023-05-23T23:31:04.650933Z",
     "start_time": "2023-05-23T23:31:04.626797Z"
    }
   },
   "outputs": [],
   "source": [
    "def preprocess_and_create_options(df: pd.DataFrame):\n",
    "    \"\"\"\n",
    "    process data and return the following df's \n",
    "    normal_df - just fixed bad columns in original data\n",
    "    added_columns_df - added features based on original columns \n",
    "    normalized_df - normalized added_columns_df\n",
    "    irs_df - augment features based off of IRS data also includes added_columns_df\n",
    "    normalized_irs_df - normalized irs_df\n",
    "    \"\"\"\n",
    "    # fix bad columns\n",
    "    df['date'] = [x.split('T')[0] for x in df['date']]\n",
    "\n",
    "    normal_df = df.copy(deep=True)\n",
    "\n",
    "    # add new columns\n",
    "    df['opinion_score'] = df['view'] + df['condition'] + df['grade']\n",
    "    df['year_of_data'] = [int(x[0:4]) for x in df['date']]\n",
    "    df['month_of_data'] = [int(x[4:6]) for x in df['date']]\n",
    "    df['years_since_renovation'] = df['year_of_data'] - (\n",
    "        df['yr_renovated'].where(df['yr_renovated'] != 0, df['yr_built']))\n",
    "\n",
    "    def calculate_distance(lat2, lon2):\n",
    "        \"\"\"\n",
    "        returns the distance of a latitude longitude pair to seattle, washington in kilometers\n",
    "        \"\"\"\n",
    "        # Coordinates of Seattle\n",
    "        lat1 = 47.6062  # Latitude of Seattle\n",
    "        lon1 = -122.3321  # Longitude of Seattle\n",
    "\n",
    "        # Convert latitude and longitude from degrees to radians\n",
    "        lat1 = math.radians(lat1)\n",
    "        lon1 = math.radians(lon1)\n",
    "        lat2 = math.radians(lat2)\n",
    "        lon2 = math.radians(lon2)\n",
    "\n",
    "        # Haversine formula\n",
    "        dlon = lon2 - lon1\n",
    "        dlat = lat2 - lat1\n",
    "        a = math.sin(dlat / 2) ** 2 + math.cos(lat1) * math.cos(lat2) * math.sin(dlon / 2) ** 2\n",
    "        c = 2 * math.atan2(math.sqrt(a), math.sqrt(1 - a))\n",
    "        radius_of_earth = 6371  # Radius of the Earth in kilometers\n",
    "        distance = radius_of_earth * c\n",
    "\n",
    "        return distance\n",
    "\n",
    "    def convert_to_unix_time(date_string):\n",
    "        date_object = datetime.strptime(date_string, date_format)\n",
    "        unix_time = int(date_object.timestamp())\n",
    "        return unix_time\n",
    "\n",
    "    date_format = \"%Y%m%d\"\n",
    "    df['unix_time'] = df['date'].apply(convert_to_unix_time)\n",
    "\n",
    "    df['kms_to_seattle'] = df.apply(lambda row: calculate_distance(row['lat'], row['long']), axis=1)\n",
    "\n",
    "    added_columns_df = df.copy(deep=True)\n",
    "\n",
    "    normalized_df = pd.DataFrame()\n",
    "    to_normalize = ['bedrooms', 'bathrooms', 'sqft_living', 'sqft_lot',\n",
    "                    'floors', 'waterfront', 'view', 'condition', 'grade', 'sqft_above',\n",
    "                    'sqft_basement',\n",
    "                    'sqft_living15', 'sqft_lot15', 'opinion_score', 'year_of_data',\n",
    "                    'month_of_data', 'years_since_renovation',\n",
    "                    'kms_to_seattle']\n",
    "\n",
    "    scaler = MinMaxScaler()\n",
    "\n",
    "    for x in df.columns:\n",
    "        if x in to_normalize:\n",
    "            normalized_df[x] = scaler.fit_transform(df[[x]])\n",
    "        else:\n",
    "            normalized_df[x] = df[x]\n",
    "\n",
    "    # List of attributes to merge \n",
    "    # All of these are averages for a zipcode at the year of the sale\n",
    "    # num in the name refers to number of returns with the given quality\n",
    "    # other columns are average for that zipcode of the certain thing\n",
    "    attributes = {\n",
    "        'A00100': 'gross_income',\n",
    "        'N00700': 'num_state_refunds',\n",
    "        'N00900': 'num_business_income',\n",
    "        'SCHF': 'num_farm_returns',\n",
    "        'N03300': 'num_slf_emply_rtire_pln',\n",
    "        'A18425': 'state_local_income_tax',\n",
    "        'A18450': 'state_local_gen_sales_tax',\n",
    "        'N18500': 'num_real_estate_taxes',\n",
    "        'A18500': 'real_estate_tax_amt',\n",
    "        'A19300': 'mortgage_interest_paid_amt',\n",
    "        'N07260': 'num_res_energy_tax_cred',\n",
    "        'TCE': 'num_tax_counsel_for_elderly'\n",
    "    }\n",
    "\n",
    "    # Merge the attributes from irs_2014 and irs_2015 into the df dataframe\n",
    "    for attr, name in attributes.items():\n",
    "        merged_attr = df.merge(irs_2014[['zipcode', attr]], on='zipcode', how='left')\n",
    "        merged_attr = merged_attr.merge(irs_2015[['zipcode', attr]], on='zipcode', how='left')\n",
    "        df[name] = np.where(df['year_of_data'] == 2014, merged_attr[attr + '_x'], merged_attr[attr + '_y'])\n",
    "\n",
    "    irs_df = df.copy(deep=True)\n",
    "\n",
    "    normalized_irs_df = pd.DataFrame()\n",
    "    to_normalize = ['bedrooms', 'bathrooms', 'sqft_living', 'sqft_lot',\n",
    "                    'floors', 'waterfront', 'view', 'condition', 'grade', 'sqft_above',\n",
    "                    'sqft_basement',\n",
    "                    'sqft_living15', 'sqft_lot15', 'opinion_score', 'year_of_data',\n",
    "                    'month_of_data', 'years_since_renovation',\n",
    "                    'kms_to_seattle', 'gross_income',\n",
    "                    'num_state_refunds', 'num_business_income', 'num_farm_returns',\n",
    "                    'num_slf_emply_rtire_pln', 'state_local_income_tax',\n",
    "                    'state_local_gen_sales_tax', 'num_real_estate_taxes',\n",
    "                    'real_estate_tax_amt', 'mortgage_interest_paid_amt',\n",
    "                    'num_res_energy_tax_cred', 'num_tax_counsel_for_elderly']\n",
    "\n",
    "    scaler = MinMaxScaler()\n",
    "\n",
    "    for x in df.columns:\n",
    "        if x in to_normalize:\n",
    "            normalized_irs_df[x] = scaler.fit_transform(df[[x]])\n",
    "        else:\n",
    "            normalized_irs_df[x] = df[x]\n",
    "\n",
    "    return normal_df, added_columns_df, normalized_df, irs_df, normalized_irs_df"
   ]
  },
  {
   "attachments": {},
   "cell_type": "markdown",
   "metadata": {},
   "source": [
    "### Load all possible DF's "
   ]
  },
  {
   "cell_type": "code",
   "execution_count": 4,
   "metadata": {
    "ExecuteTime": {
     "end_time": "2023-05-23T23:31:08.578083Z",
     "start_time": "2023-05-23T23:31:08.063712Z"
    }
   },
   "outputs": [],
   "source": [
    "normal_housing, added_columns_housing, normalized_housing, irs_housing, normalized_irs_housing = preprocess_and_create_options(\n",
    "    housing)\n",
    "normal_holdout, added_columns_holdout, normalized_holdout, irs_holdout, normalized_irs_holdout = preprocess_and_create_options(\n",
    "    holdout)\n",
    "normal_holdout_mini, added_columns_holdout_mini, normalized_holdout_mini, irs_holdout_mini, normalized_irs_holdout_mini = preprocess_and_create_options(\n",
    "    holdout_mini)"
   ]
  },
  {
   "cell_type": "markdown",
   "source": [
    "# Brian's Stuff"
   ],
   "metadata": {
    "collapsed": false
   }
  },
  {
   "cell_type": "code",
   "execution_count": 78,
   "outputs": [
    {
     "ename": "ModuleNotFoundError",
     "evalue": "No module named 'google'",
     "output_type": "error",
     "traceback": [
      "\u001B[0;31m---------------------------------------------------------------------------\u001B[0m",
      "\u001B[0;31mModuleNotFoundError\u001B[0m                       Traceback (most recent call last)",
      "Cell \u001B[0;32mIn[78], line 1\u001B[0m\n\u001B[0;32m----> 1\u001B[0m \u001B[38;5;28;01mfrom\u001B[39;00m \u001B[38;5;21;01mgoogle\u001B[39;00m\u001B[38;5;21;01m.\u001B[39;00m\u001B[38;5;21;01mcolab\u001B[39;00m \u001B[38;5;28;01mimport\u001B[39;00m drive\n\u001B[1;32m      2\u001B[0m drive\u001B[38;5;241m.\u001B[39mmount(\u001B[38;5;124m'\u001B[39m\u001B[38;5;124m/content/drive\u001B[39m\u001B[38;5;124m'\u001B[39m)\n\u001B[1;32m      4\u001B[0m \u001B[38;5;28;01mdef\u001B[39;00m \u001B[38;5;21mapply_brian\u001B[39m(housing) \u001B[38;5;241m-\u001B[39m\u001B[38;5;241m>\u001B[39m pd\u001B[38;5;241m.\u001B[39mDataFrame:\n",
      "\u001B[0;31mModuleNotFoundError\u001B[0m: No module named 'google'"
     ]
    }
   ],
   "source": [
    "\n"
   ],
   "metadata": {
    "collapsed": false,
    "ExecuteTime": {
     "end_time": "2023-05-24T02:15:22.030745Z",
     "start_time": "2023-05-24T02:15:21.997581Z"
    }
   }
  },
  {
   "cell_type": "markdown",
   "source": [
    "# Use Grid/Random Search to Train and Select Best Models\n",
    "\n",
    "This will be performed for each of the possible dataframes to determine which sets of augmented features are most helpful."
   ],
   "metadata": {
    "collapsed": false
   }
  },
  {
   "cell_type": "code",
   "execution_count": 102,
   "outputs": [],
   "source": [
    "dataframes = {\n",
    "    # \"normal housing\": normal_housing,\n",
    "    # \"added columns housing\": added_columns_housing,\n",
    "    # \"normalized housing\": normalized_housing,\n",
    "    # \"irs housing\": irs_housing,\n",
    "    \"normalized irs housing\": normalized_irs_housing\n",
    "}\n"
   ],
   "metadata": {
    "collapsed": false,
    "ExecuteTime": {
     "end_time": "2023-05-24T03:58:50.125300Z",
     "start_time": "2023-05-24T03:58:50.121945Z"
    }
   }
  },
  {
   "cell_type": "markdown",
   "source": [
    "### Models/Datasets Evaluation"
   ],
   "metadata": {
    "collapsed": false
   }
  },
  {
   "cell_type": "code",
   "execution_count": 112,
   "outputs": [],
   "source": [
    "from sklearn.metrics import r2_score\n",
    "from sklearn.metrics import mean_squared_error\n",
    "import pandas as pd\n",
    "import seaborn as sns\n",
    "from matplotlib import pyplot\n",
    "\n",
    "from enum import Enum\n",
    "\n",
    "\n",
    "class SplitType(Enum):\n",
    "    EVAL = \"Evaluation\"\n",
    "    TEST = \"Test\"\n",
    "\n",
    "\n",
    "results = pd.DataFrame({\n",
    "    \"id\": [],\n",
    "    \"split\": [],\n",
    "    # \"learning_rate\": [],\n",
    "    # \"n_estimators\": [],\n",
    "    # \"max_depth\": [],\n",
    "    \"r2\": [],\n",
    "    \"rmse\": [],\n",
    "})\n",
    "\n",
    "models = {}\n",
    "cross_validators = {}"
   ],
   "metadata": {
    "collapsed": false,
    "ExecuteTime": {
     "end_time": "2023-05-24T04:29:57.531147Z",
     "start_time": "2023-05-24T04:29:57.526585Z"
    }
   }
  },
  {
   "cell_type": "markdown",
   "source": [
    "### Define Evaluation and Reporting functions"
   ],
   "metadata": {
    "collapsed": false
   }
  },
  {
   "cell_type": "code",
   "execution_count": 103,
   "outputs": [],
   "source": [
    "from sklearn.model_selection import RandomizedSearchCV, GridSearchCV\n",
    "\n",
    "\n",
    "def evaluate(model_id, search: GridSearchCV, y_test, y_pred):\n",
    "    cross_validators[model_id] = search\n",
    "    models[model_id] = best_model\n",
    "\n",
    "    test_r2 = r2_score(y_test, y_pred)\n",
    "    test_rmse = mean_squared_error(y_test, y_pred, squared=False)\n",
    "\n",
    "    print(f\"\\nEvaluating '{model_id}': \\n\"\n",
    "          f\"\\n\\tTest R2: {test_r2}\\n\"\n",
    "          f\"\\n\\tTest RMSE: {test_rmse}\\n\"\n",
    "          f\"\\n\\tEval R2: {search.best_score_}\\n\")\n",
    "    print(\"\\t\\tBest Params: \")\n",
    "    print(search.best_params_)\n",
    "\n",
    "    results.loc[len(results)] = [model_id, SplitType.EVAL, search.best_score_, test_rmse]\n",
    "    results.loc[len(results)] = [model_id, SplitType.TEST, test_r2, test_rmse]\n",
    "\n",
    "\n",
    "def report():\n",
    "    plt = sns.barplot(\n",
    "        data=results,\n",
    "        x=\"id\",\n",
    "        y=\"r2\",\n",
    "        hue=\"split\"\n",
    "    )\n",
    "\n",
    "    pyplot.xticks(rotation=45)\n",
    "\n",
    "    # Add values to the top of each bar\n",
    "    for index, row in results.iterrows():\n",
    "        plt.annotate(round(row['r2'], 4),  # Value to display\n",
    "                     xy=(row.name, row['r2']),  # Position of the value\n",
    "                     xytext=(0, 5),  # Offset text position (optional)\n",
    "                     textcoords='offset points',  # Offset type (optional)\n",
    "                     ha='center')  # Horizontal alignment of the value"
   ],
   "metadata": {
    "collapsed": false,
    "ExecuteTime": {
     "end_time": "2023-05-24T03:58:54.092987Z",
     "start_time": "2023-05-24T03:58:54.091949Z"
    }
   }
  },
  {
   "cell_type": "markdown",
   "source": [
    "## Train all possible Datasets"
   ],
   "metadata": {
    "collapsed": false
   }
  },
  {
   "cell_type": "code",
   "execution_count": 110,
   "outputs": [
    {
     "name": "stdout",
     "output_type": "stream",
     "text": [
      "Training based on the 'normalized irs housing' dataset\n",
      "0.9005034801424363\n",
      "\n",
      "Evaluating 'normalized irs housing': \n",
      "\n",
      "\tTest R2: 0.9016475166325031\n",
      "\n",
      "\tTest RMSE: 121792.28542435404\n",
      "\n",
      "\tEval R2: 0.9005034801424363\n",
      "\n",
      "\t\tBest Params: \n",
      "{'learning_rate': 0.1, 'max_depth': 5, 'n_estimators': 300}\n"
     ]
    },
    {
     "data": {
      "text/plain": "<Figure size 500x500 with 1 Axes>",
      "image/png": "[encoded data removed]"
     },
     "metadata": {},
     "output_type": "display_data"
    }
   ],
   "source": [
    "from sklearn.model_selection import RandomizedSearchCV, GridSearchCV, train_test_split\n",
    "from xgboost import XGBRegressor\n",
    "\n",
    "param_grid = {\n",
    "    'learning_rate': [0.01, 0.05, 0.1],\n",
    "    'n_estimators': [200, 300],\n",
    "    'max_depth': [3, 5, 7]\n",
    "}\n",
    "\n",
    "columns_to_drop = ['price', 'date', 'id',\n",
    "                   ]\n",
    "\n",
    "for name, dataframe in dataframes.items():\n",
    "    print(f\"Training based on the '{name}' dataset\")\n",
    "\n",
    "    # Filter The Bourgeoisie ?\n",
    "\n",
    "    # Define X/y\n",
    "    y = dataframe.price\n",
    "    X = dataframe.drop(columns_to_drop, axis=1)\n",
    "\n",
    "    # Split into Train/Eval/Test datasets\n",
    "    X_train, X_test, y_train, y_test = train_test_split(X, y, test_size=0.2, random_state=42)\n",
    "    # X_train, X_validate, y_train, y_validate = train_test_split(X_train_validate, y_train_validate, test_size=0.2,\n",
    "    #                                                             random_state=42)\n",
    "    # X_train, y_train, X_validate, y_validate = train_test_split(X_train, y_train, test_size=0.2)\n",
    "    # X_train, y_train, X_test, y_test = train_test_split(X, y, test_size=0.2)\n",
    "\n",
    "    # Perform the Grid/Random Search\n",
    "    random_search = GridSearchCV(XGBRegressor(), param_grid, cv=5)\n",
    "    random_search.fit(X_train, y_train)\n",
    "\n",
    "    # Get the best model & its metrics\n",
    "    best_model: XGBRegressor = random_search.best_estimator_\n",
    "    print(random_search.best_score_)\n",
    "\n",
    "    # Generate predictions for the test (or evaluate?) dataset\n",
    "    y_pred = best_model.predict(X_test)\n",
    "\n",
    "    # Record the results\n",
    "    evaluate(name, random_search, y_test, y_pred)\n",
    "\n",
    "    # Brian's thing\n",
    "\n",
    "    from matplotlib import pyplot as plt\n",
    "\n",
    "    subset = X_test\n",
    "    X_test['Predicted Values'] = y_pred\n",
    "    X_test['Actual Values'] = y_test\n",
    "\n",
    "    sns.lmplot(x='Actual Values', y='Predicted Values', data=X_test)\n",
    "\n",
    "    # Add labels and title\n",
    "    plt.xlabel('Actual Values')\n",
    "    plt.ylabel('Predicted Values')\n",
    "    plt.title('Predicted vs. Actual')\n",
    "\n",
    "    # Add a diagonal line for reference\n",
    "    plt.plot([min(X_test['Actual Values']), max(X_test['Actual Values'])],\n",
    "             [min(X_test['Actual Values']), max(X_test['Actual Values'])],\n",
    "             'r--')\n",
    "\n",
    "    # Display the plot\n",
    "    plt.show()\n",
    "\n"
   ],
   "metadata": {
    "collapsed": false,
    "ExecuteTime": {
     "end_time": "2023-05-24T04:27:13.216695Z",
     "start_time": "2023-05-24T04:24:39.508835Z"
    }
   }
  },
  {
   "cell_type": "markdown",
   "source": [
    "### Evaluate Feature Importances"
   ],
   "metadata": {
    "collapsed": false
   }
  },
  {
   "cell_type": "code",
   "execution_count": 113,
   "outputs": [
    {
     "name": "stdout",
     "output_type": "stream",
     "text": [
      "Empty DataFrame\n",
      "Columns: [feature, importance]\n",
      "Index: []\n"
     ]
    },
    {
     "ename": "ValueError",
     "evalue": "min() arg is an empty sequence",
     "output_type": "error",
     "traceback": [
      "\u001B[0;31m---------------------------------------------------------------------------\u001B[0m",
      "\u001B[0;31mValueError\u001B[0m                                Traceback (most recent call last)",
      "Cell \u001B[0;32mIn[113], line 26\u001B[0m\n\u001B[1;32m     22\u001B[0m \u001B[38;5;28mprint\u001B[39m(summarized_fi\u001B[38;5;241m.\u001B[39mhead(\u001B[38;5;241m30\u001B[39m))\n\u001B[1;32m     24\u001B[0m \u001B[38;5;66;03m# summarized_fi[\"feature\"] = summarized_fi[\"feature\"].astype(str)\u001B[39;00m\n\u001B[0;32m---> 26\u001B[0m plt \u001B[38;5;241m=\u001B[39m \u001B[43msns\u001B[49m\u001B[38;5;241;43m.\u001B[39;49m\u001B[43mbarplot\u001B[49m\u001B[43m(\u001B[49m\n\u001B[1;32m     27\u001B[0m \u001B[43m    \u001B[49m\u001B[43mdata\u001B[49m\u001B[38;5;241;43m=\u001B[39;49m\u001B[43msummarized_fi\u001B[49m\u001B[43m,\u001B[49m\n\u001B[1;32m     28\u001B[0m \u001B[43m    \u001B[49m\u001B[43mx\u001B[49m\u001B[38;5;241;43m=\u001B[39;49m\u001B[38;5;124;43m\"\u001B[39;49m\u001B[38;5;124;43mfeature\u001B[39;49m\u001B[38;5;124;43m\"\u001B[39;49m\u001B[43m,\u001B[49m\n\u001B[1;32m     29\u001B[0m \u001B[43m    \u001B[49m\u001B[43my\u001B[49m\u001B[38;5;241;43m=\u001B[39;49m\u001B[38;5;124;43m\"\u001B[39;49m\u001B[38;5;124;43mimportance\u001B[39;49m\u001B[38;5;124;43m\"\u001B[39;49m\u001B[43m,\u001B[49m\n\u001B[1;32m     30\u001B[0m \u001B[43m)\u001B[49m\n\u001B[1;32m     32\u001B[0m pyplot\u001B[38;5;241m.\u001B[39mxticks(rotation\u001B[38;5;241m=\u001B[39m\u001B[38;5;241m60\u001B[39m)\n\u001B[1;32m     34\u001B[0m \u001B[38;5;66;03m# Add values to the top of each bar\u001B[39;00m\n",
      "File \u001B[0;32m~/Documents/Development/CSE450/jberds-housing/venv/lib/python3.9/site-packages/seaborn/categorical.py:2755\u001B[0m, in \u001B[0;36mbarplot\u001B[0;34m(data, x, y, hue, order, hue_order, estimator, errorbar, n_boot, units, seed, orient, color, palette, saturation, width, errcolor, errwidth, capsize, dodge, ci, ax, **kwargs)\u001B[0m\n\u001B[1;32m   2752\u001B[0m \u001B[38;5;28;01mif\u001B[39;00m estimator \u001B[38;5;129;01mis\u001B[39;00m \u001B[38;5;28mlen\u001B[39m:\n\u001B[1;32m   2753\u001B[0m     estimator \u001B[38;5;241m=\u001B[39m \u001B[38;5;124m\"\u001B[39m\u001B[38;5;124msize\u001B[39m\u001B[38;5;124m\"\u001B[39m\n\u001B[0;32m-> 2755\u001B[0m plotter \u001B[38;5;241m=\u001B[39m \u001B[43m_BarPlotter\u001B[49m\u001B[43m(\u001B[49m\u001B[43mx\u001B[49m\u001B[43m,\u001B[49m\u001B[43m \u001B[49m\u001B[43my\u001B[49m\u001B[43m,\u001B[49m\u001B[43m \u001B[49m\u001B[43mhue\u001B[49m\u001B[43m,\u001B[49m\u001B[43m \u001B[49m\u001B[43mdata\u001B[49m\u001B[43m,\u001B[49m\u001B[43m \u001B[49m\u001B[43morder\u001B[49m\u001B[43m,\u001B[49m\u001B[43m \u001B[49m\u001B[43mhue_order\u001B[49m\u001B[43m,\u001B[49m\n\u001B[1;32m   2756\u001B[0m \u001B[43m                      \u001B[49m\u001B[43mestimator\u001B[49m\u001B[43m,\u001B[49m\u001B[43m \u001B[49m\u001B[43merrorbar\u001B[49m\u001B[43m,\u001B[49m\u001B[43m \u001B[49m\u001B[43mn_boot\u001B[49m\u001B[43m,\u001B[49m\u001B[43m \u001B[49m\u001B[43munits\u001B[49m\u001B[43m,\u001B[49m\u001B[43m \u001B[49m\u001B[43mseed\u001B[49m\u001B[43m,\u001B[49m\n\u001B[1;32m   2757\u001B[0m \u001B[43m                      \u001B[49m\u001B[43morient\u001B[49m\u001B[43m,\u001B[49m\u001B[43m \u001B[49m\u001B[43mcolor\u001B[49m\u001B[43m,\u001B[49m\u001B[43m \u001B[49m\u001B[43mpalette\u001B[49m\u001B[43m,\u001B[49m\u001B[43m \u001B[49m\u001B[43msaturation\u001B[49m\u001B[43m,\u001B[49m\n\u001B[1;32m   2758\u001B[0m \u001B[43m                      \u001B[49m\u001B[43mwidth\u001B[49m\u001B[43m,\u001B[49m\u001B[43m \u001B[49m\u001B[43merrcolor\u001B[49m\u001B[43m,\u001B[49m\u001B[43m \u001B[49m\u001B[43merrwidth\u001B[49m\u001B[43m,\u001B[49m\u001B[43m \u001B[49m\u001B[43mcapsize\u001B[49m\u001B[43m,\u001B[49m\u001B[43m \u001B[49m\u001B[43mdodge\u001B[49m\u001B[43m)\u001B[49m\n\u001B[1;32m   2760\u001B[0m \u001B[38;5;28;01mif\u001B[39;00m ax \u001B[38;5;129;01mis\u001B[39;00m \u001B[38;5;28;01mNone\u001B[39;00m:\n\u001B[1;32m   2761\u001B[0m     ax \u001B[38;5;241m=\u001B[39m plt\u001B[38;5;241m.\u001B[39mgca()\n",
      "File \u001B[0;32m~/Documents/Development/CSE450/jberds-housing/venv/lib/python3.9/site-packages/seaborn/categorical.py:1532\u001B[0m, in \u001B[0;36m_BarPlotter.__init__\u001B[0;34m(self, x, y, hue, data, order, hue_order, estimator, errorbar, n_boot, units, seed, orient, color, palette, saturation, width, errcolor, errwidth, capsize, dodge)\u001B[0m\n\u001B[1;32m   1529\u001B[0m \u001B[38;5;250m\u001B[39m\u001B[38;5;124;03m\"\"\"Initialize the plotter.\"\"\"\u001B[39;00m\n\u001B[1;32m   1530\u001B[0m \u001B[38;5;28mself\u001B[39m\u001B[38;5;241m.\u001B[39mestablish_variables(x, y, hue, data, orient,\n\u001B[1;32m   1531\u001B[0m                          order, hue_order, units)\n\u001B[0;32m-> 1532\u001B[0m \u001B[38;5;28;43mself\u001B[39;49m\u001B[38;5;241;43m.\u001B[39;49m\u001B[43mestablish_colors\u001B[49m\u001B[43m(\u001B[49m\u001B[43mcolor\u001B[49m\u001B[43m,\u001B[49m\u001B[43m \u001B[49m\u001B[43mpalette\u001B[49m\u001B[43m,\u001B[49m\u001B[43m \u001B[49m\u001B[43msaturation\u001B[49m\u001B[43m)\u001B[49m\n\u001B[1;32m   1533\u001B[0m \u001B[38;5;28mself\u001B[39m\u001B[38;5;241m.\u001B[39mestimate_statistic(estimator, errorbar, n_boot, seed)\n\u001B[1;32m   1535\u001B[0m \u001B[38;5;28mself\u001B[39m\u001B[38;5;241m.\u001B[39mdodge \u001B[38;5;241m=\u001B[39m dodge\n",
      "File \u001B[0;32m~/Documents/Development/CSE450/jberds-housing/venv/lib/python3.9/site-packages/seaborn/categorical.py:707\u001B[0m, in \u001B[0;36m_CategoricalPlotter.establish_colors\u001B[0;34m(self, color, palette, saturation)\u001B[0m\n\u001B[1;32m    705\u001B[0m \u001B[38;5;66;03m# Determine the gray color to use for the lines framing the plot\u001B[39;00m\n\u001B[1;32m    706\u001B[0m light_vals \u001B[38;5;241m=\u001B[39m [rgb_to_hls(\u001B[38;5;241m*\u001B[39mc)[\u001B[38;5;241m1\u001B[39m] \u001B[38;5;28;01mfor\u001B[39;00m c \u001B[38;5;129;01min\u001B[39;00m rgb_colors]\n\u001B[0;32m--> 707\u001B[0m lum \u001B[38;5;241m=\u001B[39m \u001B[38;5;28;43mmin\u001B[39;49m\u001B[43m(\u001B[49m\u001B[43mlight_vals\u001B[49m\u001B[43m)\u001B[49m \u001B[38;5;241m*\u001B[39m \u001B[38;5;241m.6\u001B[39m\n\u001B[1;32m    708\u001B[0m gray \u001B[38;5;241m=\u001B[39m mpl\u001B[38;5;241m.\u001B[39mcolors\u001B[38;5;241m.\u001B[39mrgb2hex((lum, lum, lum))\n\u001B[1;32m    710\u001B[0m \u001B[38;5;66;03m# Assign object attributes\u001B[39;00m\n",
      "\u001B[0;31mValueError\u001B[0m: min() arg is an empty sequence"
     ]
    }
   ],
   "source": [
    "feature_importances = {}\n",
    "feature_importances_df = pd.DataFrame({\"feature\": [], \"importance\": []})\n",
    "for name, search in cross_validators.items():\n",
    "    s: GridSearchCV = search\n",
    "    # print(f\"{name}: \")\n",
    "    for index, value in enumerate(s.feature_names_in_):\n",
    "        importance = s.best_estimator_.feature_importances_[index]\n",
    "        # print(f\"\\t{index}: {value} - {importance}\")\n",
    "        if feature_importances.get(value) is not None and len(feature_importances[value]) > 0:\n",
    "            feature_importances[value].append(importance)\n",
    "        else:\n",
    "            feature_importances[value] = [importance]\n",
    "\n",
    "for feature, importances in feature_importances.items():\n",
    "    for importance in importances:\n",
    "        feature_importances_df.loc[len(feature_importances_df)] = [feature, importance]\n",
    "\n",
    "# summarized_fi = feature_importances_df.sort_values(\"importance\", ascending=False)\n",
    "summarized_fi = feature_importances_df.groupby([\"feature\"]).mean().sort_values(\"importance\",\n",
    "                                                                               ascending=False).reset_index().head(10)\n",
    "\n",
    "print(summarized_fi.head(30))\n",
    "\n",
    "# summarized_fi[\"feature\"] = summarized_fi[\"feature\"].astype(str)\n",
    "\n",
    "plt = sns.barplot(\n",
    "    data=summarized_fi,\n",
    "    x=\"feature\",\n",
    "    y=\"importance\",\n",
    ")\n",
    "\n",
    "pyplot.xticks(rotation=60)\n",
    "\n",
    "# Add values to the top of each bar\n",
    "for index, row in results.iterrows():\n",
    "    plt.annotate(round(row['r2'], 2),  # Value to display\n",
    "                 xy=(row.name, row['r2']),  # Position of the value\n",
    "                 xytext=(0, 5),  # Offset text position (optional)\n",
    "                 textcoords='offset points',  # Offset type (optional)\n",
    "                 ha='center')  # Horizontal alignment of the value\n"
   ],
   "metadata": {
    "collapsed": false,
    "ExecuteTime": {
     "end_time": "2023-05-24T04:30:02.562948Z",
     "start_time": "2023-05-24T04:30:02.487209Z"
    }
   }
  },
  {
   "cell_type": "markdown",
   "source": [
    "## Print the Summary"
   ],
   "metadata": {
    "collapsed": false
   }
  },
  {
   "cell_type": "code",
   "execution_count": 114,
   "outputs": [
    {
     "ename": "ValueError",
     "evalue": "min() arg is an empty sequence",
     "output_type": "error",
     "traceback": [
      "\u001B[0;31m---------------------------------------------------------------------------\u001B[0m",
      "\u001B[0;31mValueError\u001B[0m                                Traceback (most recent call last)",
      "Cell \u001B[0;32mIn[114], line 1\u001B[0m\n\u001B[0;32m----> 1\u001B[0m \u001B[43mreport\u001B[49m\u001B[43m(\u001B[49m\u001B[43m)\u001B[49m\n",
      "Cell \u001B[0;32mIn[103], line 23\u001B[0m, in \u001B[0;36mreport\u001B[0;34m()\u001B[0m\n\u001B[1;32m     22\u001B[0m \u001B[38;5;28;01mdef\u001B[39;00m \u001B[38;5;21mreport\u001B[39m():\n\u001B[0;32m---> 23\u001B[0m     plt \u001B[38;5;241m=\u001B[39m \u001B[43msns\u001B[49m\u001B[38;5;241;43m.\u001B[39;49m\u001B[43mbarplot\u001B[49m\u001B[43m(\u001B[49m\n\u001B[1;32m     24\u001B[0m \u001B[43m        \u001B[49m\u001B[43mdata\u001B[49m\u001B[38;5;241;43m=\u001B[39;49m\u001B[43mresults\u001B[49m\u001B[43m,\u001B[49m\n\u001B[1;32m     25\u001B[0m \u001B[43m        \u001B[49m\u001B[43mx\u001B[49m\u001B[38;5;241;43m=\u001B[39;49m\u001B[38;5;124;43m\"\u001B[39;49m\u001B[38;5;124;43mid\u001B[39;49m\u001B[38;5;124;43m\"\u001B[39;49m\u001B[43m,\u001B[49m\n\u001B[1;32m     26\u001B[0m \u001B[43m        \u001B[49m\u001B[43my\u001B[49m\u001B[38;5;241;43m=\u001B[39;49m\u001B[38;5;124;43m\"\u001B[39;49m\u001B[38;5;124;43mr2\u001B[39;49m\u001B[38;5;124;43m\"\u001B[39;49m\u001B[43m,\u001B[49m\n\u001B[1;32m     27\u001B[0m \u001B[43m        \u001B[49m\u001B[43mhue\u001B[49m\u001B[38;5;241;43m=\u001B[39;49m\u001B[38;5;124;43m\"\u001B[39;49m\u001B[38;5;124;43msplit\u001B[39;49m\u001B[38;5;124;43m\"\u001B[39;49m\n\u001B[1;32m     28\u001B[0m \u001B[43m    \u001B[49m\u001B[43m)\u001B[49m\n\u001B[1;32m     30\u001B[0m     pyplot\u001B[38;5;241m.\u001B[39mxticks(rotation\u001B[38;5;241m=\u001B[39m\u001B[38;5;241m45\u001B[39m)\n\u001B[1;32m     32\u001B[0m     \u001B[38;5;66;03m# Add values to the top of each bar\u001B[39;00m\n",
      "File \u001B[0;32m~/Documents/Development/CSE450/jberds-housing/venv/lib/python3.9/site-packages/seaborn/categorical.py:2755\u001B[0m, in \u001B[0;36mbarplot\u001B[0;34m(data, x, y, hue, order, hue_order, estimator, errorbar, n_boot, units, seed, orient, color, palette, saturation, width, errcolor, errwidth, capsize, dodge, ci, ax, **kwargs)\u001B[0m\n\u001B[1;32m   2752\u001B[0m \u001B[38;5;28;01mif\u001B[39;00m estimator \u001B[38;5;129;01mis\u001B[39;00m \u001B[38;5;28mlen\u001B[39m:\n\u001B[1;32m   2753\u001B[0m     estimator \u001B[38;5;241m=\u001B[39m \u001B[38;5;124m\"\u001B[39m\u001B[38;5;124msize\u001B[39m\u001B[38;5;124m\"\u001B[39m\n\u001B[0;32m-> 2755\u001B[0m plotter \u001B[38;5;241m=\u001B[39m \u001B[43m_BarPlotter\u001B[49m\u001B[43m(\u001B[49m\u001B[43mx\u001B[49m\u001B[43m,\u001B[49m\u001B[43m \u001B[49m\u001B[43my\u001B[49m\u001B[43m,\u001B[49m\u001B[43m \u001B[49m\u001B[43mhue\u001B[49m\u001B[43m,\u001B[49m\u001B[43m \u001B[49m\u001B[43mdata\u001B[49m\u001B[43m,\u001B[49m\u001B[43m \u001B[49m\u001B[43morder\u001B[49m\u001B[43m,\u001B[49m\u001B[43m \u001B[49m\u001B[43mhue_order\u001B[49m\u001B[43m,\u001B[49m\n\u001B[1;32m   2756\u001B[0m \u001B[43m                      \u001B[49m\u001B[43mestimator\u001B[49m\u001B[43m,\u001B[49m\u001B[43m \u001B[49m\u001B[43merrorbar\u001B[49m\u001B[43m,\u001B[49m\u001B[43m \u001B[49m\u001B[43mn_boot\u001B[49m\u001B[43m,\u001B[49m\u001B[43m \u001B[49m\u001B[43munits\u001B[49m\u001B[43m,\u001B[49m\u001B[43m \u001B[49m\u001B[43mseed\u001B[49m\u001B[43m,\u001B[49m\n\u001B[1;32m   2757\u001B[0m \u001B[43m                      \u001B[49m\u001B[43morient\u001B[49m\u001B[43m,\u001B[49m\u001B[43m \u001B[49m\u001B[43mcolor\u001B[49m\u001B[43m,\u001B[49m\u001B[43m \u001B[49m\u001B[43mpalette\u001B[49m\u001B[43m,\u001B[49m\u001B[43m \u001B[49m\u001B[43msaturation\u001B[49m\u001B[43m,\u001B[49m\n\u001B[1;32m   2758\u001B[0m \u001B[43m                      \u001B[49m\u001B[43mwidth\u001B[49m\u001B[43m,\u001B[49m\u001B[43m \u001B[49m\u001B[43merrcolor\u001B[49m\u001B[43m,\u001B[49m\u001B[43m \u001B[49m\u001B[43merrwidth\u001B[49m\u001B[43m,\u001B[49m\u001B[43m \u001B[49m\u001B[43mcapsize\u001B[49m\u001B[43m,\u001B[49m\u001B[43m \u001B[49m\u001B[43mdodge\u001B[49m\u001B[43m)\u001B[49m\n\u001B[1;32m   2760\u001B[0m \u001B[38;5;28;01mif\u001B[39;00m ax \u001B[38;5;129;01mis\u001B[39;00m \u001B[38;5;28;01mNone\u001B[39;00m:\n\u001B[1;32m   2761\u001B[0m     ax \u001B[38;5;241m=\u001B[39m plt\u001B[38;5;241m.\u001B[39mgca()\n",
      "File \u001B[0;32m~/Documents/Development/CSE450/jberds-housing/venv/lib/python3.9/site-packages/seaborn/categorical.py:1532\u001B[0m, in \u001B[0;36m_BarPlotter.__init__\u001B[0;34m(self, x, y, hue, data, order, hue_order, estimator, errorbar, n_boot, units, seed, orient, color, palette, saturation, width, errcolor, errwidth, capsize, dodge)\u001B[0m\n\u001B[1;32m   1529\u001B[0m \u001B[38;5;250m\u001B[39m\u001B[38;5;124;03m\"\"\"Initialize the plotter.\"\"\"\u001B[39;00m\n\u001B[1;32m   1530\u001B[0m \u001B[38;5;28mself\u001B[39m\u001B[38;5;241m.\u001B[39mestablish_variables(x, y, hue, data, orient,\n\u001B[1;32m   1531\u001B[0m                          order, hue_order, units)\n\u001B[0;32m-> 1532\u001B[0m \u001B[38;5;28;43mself\u001B[39;49m\u001B[38;5;241;43m.\u001B[39;49m\u001B[43mestablish_colors\u001B[49m\u001B[43m(\u001B[49m\u001B[43mcolor\u001B[49m\u001B[43m,\u001B[49m\u001B[43m \u001B[49m\u001B[43mpalette\u001B[49m\u001B[43m,\u001B[49m\u001B[43m \u001B[49m\u001B[43msaturation\u001B[49m\u001B[43m)\u001B[49m\n\u001B[1;32m   1533\u001B[0m \u001B[38;5;28mself\u001B[39m\u001B[38;5;241m.\u001B[39mestimate_statistic(estimator, errorbar, n_boot, seed)\n\u001B[1;32m   1535\u001B[0m \u001B[38;5;28mself\u001B[39m\u001B[38;5;241m.\u001B[39mdodge \u001B[38;5;241m=\u001B[39m dodge\n",
      "File \u001B[0;32m~/Documents/Development/CSE450/jberds-housing/venv/lib/python3.9/site-packages/seaborn/categorical.py:707\u001B[0m, in \u001B[0;36m_CategoricalPlotter.establish_colors\u001B[0;34m(self, color, palette, saturation)\u001B[0m\n\u001B[1;32m    705\u001B[0m \u001B[38;5;66;03m# Determine the gray color to use for the lines framing the plot\u001B[39;00m\n\u001B[1;32m    706\u001B[0m light_vals \u001B[38;5;241m=\u001B[39m [rgb_to_hls(\u001B[38;5;241m*\u001B[39mc)[\u001B[38;5;241m1\u001B[39m] \u001B[38;5;28;01mfor\u001B[39;00m c \u001B[38;5;129;01min\u001B[39;00m rgb_colors]\n\u001B[0;32m--> 707\u001B[0m lum \u001B[38;5;241m=\u001B[39m \u001B[38;5;28;43mmin\u001B[39;49m\u001B[43m(\u001B[49m\u001B[43mlight_vals\u001B[49m\u001B[43m)\u001B[49m \u001B[38;5;241m*\u001B[39m \u001B[38;5;241m.6\u001B[39m\n\u001B[1;32m    708\u001B[0m gray \u001B[38;5;241m=\u001B[39m mpl\u001B[38;5;241m.\u001B[39mcolors\u001B[38;5;241m.\u001B[39mrgb2hex((lum, lum, lum))\n\u001B[1;32m    710\u001B[0m \u001B[38;5;66;03m# Assign object attributes\u001B[39;00m\n",
      "\u001B[0;31mValueError\u001B[0m: min() arg is an empty sequence"
     ]
    }
   ],
   "source": [
    "report()"
   ],
   "metadata": {
    "collapsed": false,
    "ExecuteTime": {
     "end_time": "2023-05-24T04:30:07.918061Z",
     "start_time": "2023-05-24T04:30:07.885987Z"
    }
   }
  },
  {
   "cell_type": "code",
   "execution_count": null,
   "outputs": [],
   "source": [
    "import matplotlib.pyplot as plt\n",
    "import seaborn as sns\n",
    "\n",
    "best_model = models[\"normalized irs housing\"]\n",
    "\n",
    "\n"
   ],
   "metadata": {
    "collapsed": false
   }
  }
 ],
 "metadata": {
  "kernelspec": {
   "display_name": "Python 3",
   "language": "python",
   "name": "python3"
  },
  "language_info": {
   "codemirror_mode": {
    "name": "ipython",
    "version": 3
   },
   "file_extension": ".py",
   "mimetype": "text/x-python",
   "name": "python",
   "nbconvert_exporter": "python",
   "pygments_lexer": "ipython3",
   "version": "3.8.10"
  }
 },
 "nbformat": 4,
 "nbformat_minor": 0
}
