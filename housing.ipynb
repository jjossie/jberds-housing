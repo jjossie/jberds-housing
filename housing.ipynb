{
 "cells": [
  {
   "cell_type": "code",
   "execution_count": 8,
   "metadata": {
    "collapsed": true
   },
   "outputs": [],
   "source": [
    "import pandas as pd\n",
    "from sklearn.preprocessing import MinMaxScaler\n",
    "housing = pd.read_csv('https://raw.githubusercontent.com/byui-cse/cse450-course/master/data/housing.csv')"
   ]
  },
  {
   "attachments": {},
   "cell_type": "markdown",
   "metadata": {},
   "source": [
    "## Possible Preproccessing"
   ]
  },
  {
   "cell_type": "code",
   "execution_count": 10,
   "metadata": {
    "collapsed": false
   },
   "outputs": [],
   "source": [
    "# fix bad columns\n",
    "housing['date'] = [x.split('T')[0] for x in housing['date']]\n",
    "housing['opinion_score'] = housing['view'] + housing['condition'] + housing['grade']\n",
    "housing['year_of_data'] = [int(x[0:4]) for x in housing['date']]\n",
    "housing['years_since_renovation'] = housing['year_of_data'] - (housing['yr_renovated'].where(housing['yr_renovated'] != 0,housing['yr_built']))\n",
    "\n",
    "\n",
    "# For each feature normalize values between 0 and 1\n",
    "normalized_housing = pd.DataFrame()\n",
    "to_normalize = ['bedrooms', 'bathrooms', 'sqft_living', 'sqft_lot',\n",
    "        'floors', 'view', 'condition', 'grade',\n",
    "        'sqft_above', 'sqft_basement', 'sqft_living15', 'sqft_lot15', 'opinion_score', 'years_since_renovation']\n",
    "\n",
    "scaler = MinMaxScaler()\n",
    "\n",
    "for x in housing.columns:\n",
    "  if x in to_normalize:\n",
    "    normalized_housing[x] = scaler.fit_transform(housing[ [x] ])\n",
    "  else:\n",
    "    normalized_housing[x] = housing[x]"
   ]
  }
 ],
 "metadata": {
  "kernelspec": {
   "display_name": "Python 3",
   "language": "python",
   "name": "python3"
  },
  "language_info": {
   "codemirror_mode": {
    "name": "ipython",
    "version": 3
   },
   "file_extension": ".py",
   "mimetype": "text/x-python",
   "name": "python",
   "nbconvert_exporter": "python",
   "pygments_lexer": "ipython3",
   "version": "3.8.10"
  }
 },
 "nbformat": 4,
 "nbformat_minor": 0
}
